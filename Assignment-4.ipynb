{
 "cells": [
  {
   "cell_type": "markdown",
   "metadata": {},
   "source": [
    "### Question-1.1"
   ]
  },
  {
   "cell_type": "code",
   "execution_count": 1,
   "metadata": {},
   "outputs": [],
   "source": [
    "class A:\n",
    "    def __init__(self,a,b,c):\n",
    "        self.a=a\n",
    "        self.b=b\n",
    "        self.c=c\n",
    "        \n",
    "class B(A):\n",
    "    def __init__(self,a,b,c):\n",
    "        super().__init__(a,b,c)\n",
    "    def CalculateArea(self):\n",
    "        s=(self.a+self.b+self.c)/2\n",
    "        aot=(s*(s-self.a)*(s-self.b)*(s-self.c)) ** 0.5\n",
    "        print(\"side of the triangle is:\",s)\n",
    "        print(\"Area of Triangle :\",aot)"
   ]
  },
  {
   "cell_type": "code",
   "execution_count": 2,
   "metadata": {},
   "outputs": [
    {
     "name": "stdout",
     "output_type": "stream",
     "text": [
      "side of the triangle is: 4.5\n",
      "Area of Triangle : 3.897114317029974\n"
     ]
    }
   ],
   "source": [
    "obj=B(3,3,3)\n",
    "obj.CalculateArea()"
   ]
  },
  {
   "cell_type": "markdown",
   "metadata": {},
   "source": [
    "### Question-1.2"
   ]
  },
  {
   "cell_type": "code",
   "execution_count": 17,
   "metadata": {},
   "outputs": [
    {
     "name": "stdout",
     "output_type": "stream",
     "text": [
      "enter the list of words :I,am,learning,ML,in,ineuron\n",
      "enter number n :3\n",
      "['learning', 'ineuron']\n"
     ]
    }
   ],
   "source": [
    "def filter_long_words(s,n):\n",
    "    pos=0\n",
    "    l=[]\n",
    "    q=str()\n",
    "    for i in range(len(s)):\n",
    "        pos+=1\n",
    "        if((ord(s[i])>=65 and ord(s[i])<=90) or (ord(s[i])>=97) and (ord(s[i])<=122)):\n",
    "            q=q+s[i]\n",
    "            if(len(s)==pos):\n",
    "                if(len(q)>n):\n",
    "                    l.append(q)\n",
    "        elif((ord(s[i-1])>=65) and (ord(s[i-1])<=90)) or ((ord(s[i-1])>=97) and (ord(s[i-1])<=122)):\n",
    "            if(len(q)>n):\n",
    "                l.append(q)\n",
    "            q=str()\n",
    "    print(l)    \n",
    "string=input(\"enter the list of words :\")\n",
    "n=int(input(\"enter number n :\"))\n",
    "filter_long_words(string,n)"
   ]
  },
  {
   "cell_type": "markdown",
   "metadata": {},
   "source": [
    "### Question-2.1"
   ]
  },
  {
   "cell_type": "code",
   "execution_count": 7,
   "metadata": {},
   "outputs": [
    {
     "name": "stdout",
     "output_type": "stream",
     "text": [
      "enter the list of words :[ ab,cde,erty]\n",
      "[2, 3, 4]\n"
     ]
    }
   ],
   "source": [
    "def func(s):\n",
    "    pos=0\n",
    "    add=0\n",
    "    l=[]\n",
    "    for i in range(len(s)):\n",
    "        pos+=1\n",
    "        if((ord(s[i])>=65 and ord(s[i])<=90) or (ord(s[i])>=97) and (ord(s[i])<=122)):\n",
    "            add+=1\n",
    "            if(len(s)==pos):\n",
    "                l.append(add)\n",
    "        elif((ord(s[i-1])>=65) and (ord(s[i-1])<=90)) or ((ord(s[i-1])>=97) and (ord(s[i-1])<=122)):       \n",
    "            l.append(add)\n",
    "            add=0\n",
    "    print(l)    \n",
    "string=input(\"enter the list of words :\")\n",
    "func(string)"
   ]
  },
  {
   "cell_type": "markdown",
   "metadata": {},
   "source": [
    "### Question-2.2"
   ]
  },
  {
   "cell_type": "code",
   "execution_count": 16,
   "metadata": {},
   "outputs": [
    {
     "name": "stdout",
     "output_type": "stream",
     "text": [
      "enter a char which you want to check is it vowel or not ->a\n"
     ]
    },
    {
     "data": {
      "text/plain": [
       "True"
      ]
     },
     "execution_count": 16,
     "metadata": {},
     "output_type": "execute_result"
    }
   ],
   "source": [
    "def function(char):\n",
    "    if(char in \"aeiou\" or char in \"AEIOU\"):\n",
    "        return True\n",
    "    else:\n",
    "        return False\n",
    "char=input(\"enter a char which you want to check is it vowel or not ->\")\n",
    "function(char)"
   ]
  }
 ],
 "metadata": {
  "kernelspec": {
   "display_name": "Python 3",
   "language": "python",
   "name": "python3"
  },
  "language_info": {
   "codemirror_mode": {
    "name": "ipython",
    "version": 3
   },
   "file_extension": ".py",
   "mimetype": "text/x-python",
   "name": "python",
   "nbconvert_exporter": "python",
   "pygments_lexer": "ipython3",
   "version": "3.6.5"
  }
 },
 "nbformat": 4,
 "nbformat_minor": 4
}
